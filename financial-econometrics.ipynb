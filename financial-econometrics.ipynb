{
 "cells": [
  {
   "cell_type": "code",
   "execution_count": 1,
   "metadata": {
    "execution": {
     "iopub.execute_input": "2021-04-23T09:52:07.134059Z",
     "iopub.status.busy": "2021-04-23T09:52:07.132836Z",
     "iopub.status.idle": "2021-04-23T09:52:16.054541Z",
     "shell.execute_reply": "2021-04-23T09:52:16.053504Z"
    },
    "id": "mF3n5-bbcbDh",
    "outputId": "0037ba02-28f3-42d7-9482-048f6a4c77fc",
    "papermill": {
     "duration": 8.956301,
     "end_time": "2021-04-23T09:52:16.054777",
     "exception": false,
     "start_time": "2021-04-23T09:52:07.098476",
     "status": "completed"
    },
    "tags": []
   },
   "outputs": [
    {
     "name": "stdout",
     "output_type": "stream",
     "text": [
      "Collecting timm\r\n",
      "  Downloading timm-0.4.5-py3-none-any.whl (287 kB)\r\n",
      "\u001b[K     |████████████████████████████████| 287 kB 867 kB/s \r\n",
      "\u001b[?25hRequirement already satisfied: torch>=1.4 in /opt/conda/lib/python3.7/site-packages (from timm) (1.7.0)\r\n",
      "Requirement already satisfied: torchvision in /opt/conda/lib/python3.7/site-packages (from timm) (0.8.1)\r\n",
      "Requirement already satisfied: future in /opt/conda/lib/python3.7/site-packages (from torch>=1.4->timm) (0.18.2)\r\n",
      "Requirement already satisfied: typing_extensions in /opt/conda/lib/python3.7/site-packages (from torch>=1.4->timm) (3.7.4.3)\r\n",
      "Requirement already satisfied: dataclasses in /opt/conda/lib/python3.7/site-packages (from torch>=1.4->timm) (0.6)\r\n",
      "Requirement already satisfied: numpy in /opt/conda/lib/python3.7/site-packages (from torch>=1.4->timm) (1.19.5)\r\n",
      "Requirement already satisfied: pillow>=4.1.1 in /opt/conda/lib/python3.7/site-packages (from torchvision->timm) (7.2.0)\r\n",
      "Installing collected packages: timm\r\n",
      "Successfully installed timm-0.4.5\r\n"
     ]
    }
   ],
   "source": [
    "!pip install timm"
   ]
  },
  {
   "cell_type": "code",
   "execution_count": 2,
   "metadata": {
    "execution": {
     "iopub.execute_input": "2021-04-23T09:52:16.101666Z",
     "iopub.status.busy": "2021-04-23T09:52:16.100886Z",
     "iopub.status.idle": "2021-04-23T09:52:18.639823Z",
     "shell.execute_reply": "2021-04-23T09:52:18.638791Z"
    },
    "id": "BcWvfUN7Hg2T",
    "papermill": {
     "duration": 2.564129,
     "end_time": "2021-04-23T09:52:18.639962",
     "exception": false,
     "start_time": "2021-04-23T09:52:16.075833",
     "status": "completed"
    },
    "tags": []
   },
   "outputs": [],
   "source": [
    "import timm\n",
    "import pandas as pd\n",
    "import numpy as np\n",
    "import torch\n",
    "import torch.nn as nn\n",
    "from sklearn.model_selection import train_test_split\n",
    "from sklearn.preprocessing import MinMaxScaler\n",
    "from tqdm.notebook import tqdm"
   ]
  },
  {
   "cell_type": "code",
   "execution_count": 3,
   "metadata": {
    "execution": {
     "iopub.execute_input": "2021-04-23T09:52:18.690329Z",
     "iopub.status.busy": "2021-04-23T09:52:18.689800Z",
     "iopub.status.idle": "2021-04-23T09:52:19.640344Z",
     "shell.execute_reply": "2021-04-23T09:52:19.639172Z"
    },
    "id": "AYaCi1_UHs2g",
    "papermill": {
     "duration": 0.98077,
     "end_time": "2021-04-23T09:52:19.640509",
     "exception": false,
     "start_time": "2021-04-23T09:52:18.659739",
     "status": "completed"
    },
    "tags": []
   },
   "outputs": [],
   "source": [
    "df = pd.read_csv('../input/financial-econometrics-preprocessed/preprocessed_data_non_wavelet.csv',nrows=80000)"
   ]
  },
  {
   "cell_type": "code",
   "execution_count": 4,
   "metadata": {
    "execution": {
     "iopub.execute_input": "2021-04-23T09:52:19.685428Z",
     "iopub.status.busy": "2021-04-23T09:52:19.683727Z",
     "iopub.status.idle": "2021-04-23T09:52:19.686058Z",
     "shell.execute_reply": "2021-04-23T09:52:19.686473Z"
    },
    "id": "p4pYfTrqA6aH",
    "papermill": {
     "duration": 0.02635,
     "end_time": "2021-04-23T09:52:19.686601",
     "exception": false,
     "start_time": "2021-04-23T09:52:19.660251",
     "status": "completed"
    },
    "tags": []
   },
   "outputs": [],
   "source": [
    "df = df[:80000]"
   ]
  },
  {
   "cell_type": "code",
   "execution_count": 5,
   "metadata": {
    "execution": {
     "iopub.execute_input": "2021-04-23T09:52:19.732200Z",
     "iopub.status.busy": "2021-04-23T09:52:19.731705Z",
     "iopub.status.idle": "2021-04-23T09:52:19.735014Z",
     "shell.execute_reply": "2021-04-23T09:52:19.735542Z"
    },
    "id": "-4xOJQeiHwDn",
    "papermill": {
     "duration": 0.029719,
     "end_time": "2021-04-23T09:52:19.735713",
     "exception": false,
     "start_time": "2021-04-23T09:52:19.705994",
     "status": "completed"
    },
    "tags": []
   },
   "outputs": [],
   "source": [
    "class dataset(torch.utils.data.Dataset):\n",
    "\n",
    "\n",
    "    def __init__(self, image, target=None):\n",
    "        if target is not None:\n",
    "            assert image.size(0) == target.size(0)\n",
    "        self.image = image\n",
    "        self.target = target\n",
    "\n",
    "    def __getitem__(self, index):\n",
    "\n",
    "        image = self.image[index]\n",
    "\n",
    "        target = self.target[index]\n",
    "\n",
    "        return image.float(), target.float()\n",
    "\n",
    "    def __len__(self):\n",
    "        return len(self.image)"
   ]
  },
  {
   "cell_type": "code",
   "execution_count": 6,
   "metadata": {
    "execution": {
     "iopub.execute_input": "2021-04-23T09:52:19.789316Z",
     "iopub.status.busy": "2021-04-23T09:52:19.788180Z",
     "iopub.status.idle": "2021-04-23T09:52:19.790742Z",
     "shell.execute_reply": "2021-04-23T09:52:19.791109Z"
    },
    "id": "OiofoAwajKAe",
    "papermill": {
     "duration": 0.035999,
     "end_time": "2021-04-23T09:52:19.791233",
     "exception": false,
     "start_time": "2021-04-23T09:52:19.755234",
     "status": "completed"
    },
    "tags": []
   },
   "outputs": [],
   "source": [
    "data = df.drop(columns=['output','Unnamed: 0','index']).to_numpy()"
   ]
  },
  {
   "cell_type": "code",
   "execution_count": 7,
   "metadata": {
    "execution": {
     "iopub.execute_input": "2021-04-23T09:52:19.834340Z",
     "iopub.status.busy": "2021-04-23T09:52:19.833827Z",
     "iopub.status.idle": "2021-04-23T09:52:19.837791Z",
     "shell.execute_reply": "2021-04-23T09:52:19.837348Z"
    },
    "id": "waxcAbAfjfsY",
    "papermill": {
     "duration": 0.02671,
     "end_time": "2021-04-23T09:52:19.837894",
     "exception": false,
     "start_time": "2021-04-23T09:52:19.811184",
     "status": "completed"
    },
    "tags": []
   },
   "outputs": [],
   "source": [
    "data = data[50:-4]"
   ]
  },
  {
   "cell_type": "code",
   "execution_count": 8,
   "metadata": {
    "execution": {
     "iopub.execute_input": "2021-04-23T09:52:19.882469Z",
     "iopub.status.busy": "2021-04-23T09:52:19.881586Z",
     "iopub.status.idle": "2021-04-23T09:52:20.134255Z",
     "shell.execute_reply": "2021-04-23T09:52:20.133788Z"
    },
    "id": "EEMtwVXij6IJ",
    "papermill": {
     "duration": 0.276763,
     "end_time": "2021-04-23T09:52:20.134408",
     "exception": false,
     "start_time": "2021-04-23T09:52:19.857645",
     "status": "completed"
    },
    "tags": []
   },
   "outputs": [],
   "source": [
    "sc = MinMaxScaler()\n",
    "data = sc.fit_transform(data)\n",
    "data=np.array([data[i-30:i] for i in range(30,len(data))])"
   ]
  },
  {
   "cell_type": "code",
   "execution_count": 9,
   "metadata": {
    "execution": {
     "iopub.execute_input": "2021-04-23T09:52:20.179872Z",
     "iopub.status.busy": "2021-04-23T09:52:20.179349Z",
     "iopub.status.idle": "2021-04-23T09:52:20.183318Z",
     "shell.execute_reply": "2021-04-23T09:52:20.182873Z"
    },
    "id": "hQCXLUb-kg5w",
    "papermill": {
     "duration": 0.028247,
     "end_time": "2021-04-23T09:52:20.183428",
     "exception": false,
     "start_time": "2021-04-23T09:52:20.155181",
     "status": "completed"
    },
    "tags": []
   },
   "outputs": [],
   "source": [
    "target=df.output[30:].to_numpy()\n",
    "target=target[50:-4]"
   ]
  },
  {
   "cell_type": "code",
   "execution_count": 10,
   "metadata": {
    "execution": {
     "iopub.execute_input": "2021-04-23T09:52:20.232588Z",
     "iopub.status.busy": "2021-04-23T09:52:20.231987Z",
     "iopub.status.idle": "2021-04-23T09:52:20.556018Z",
     "shell.execute_reply": "2021-04-23T09:52:20.555555Z"
    },
    "id": "G_13UdUAlSrR",
    "papermill": {
     "duration": 0.352584,
     "end_time": "2021-04-23T09:52:20.556154",
     "exception": false,
     "start_time": "2021-04-23T09:52:20.203570",
     "status": "completed"
    },
    "tags": []
   },
   "outputs": [],
   "source": [
    "data = torch.tensor(data)\n",
    "target = torch.tensor(target)"
   ]
  },
  {
   "cell_type": "code",
   "execution_count": 11,
   "metadata": {
    "execution": {
     "iopub.execute_input": "2021-04-23T09:52:20.600745Z",
     "iopub.status.busy": "2021-04-23T09:52:20.600099Z",
     "iopub.status.idle": "2021-04-23T09:52:20.605620Z",
     "shell.execute_reply": "2021-04-23T09:52:20.605195Z"
    },
    "id": "zMJLb4Ka54bn",
    "papermill": {
     "duration": 0.028811,
     "end_time": "2021-04-23T09:52:20.605734",
     "exception": false,
     "start_time": "2021-04-23T09:52:20.576923",
     "status": "completed"
    },
    "tags": []
   },
   "outputs": [],
   "source": [
    "data = torch.unsqueeze(data, 1)"
   ]
  },
  {
   "cell_type": "code",
   "execution_count": 12,
   "metadata": {
    "execution": {
     "iopub.execute_input": "2021-04-23T09:52:20.651674Z",
     "iopub.status.busy": "2021-04-23T09:52:20.651134Z",
     "iopub.status.idle": "2021-04-23T09:52:20.654755Z",
     "shell.execute_reply": "2021-04-23T09:52:20.654205Z"
    },
    "id": "MypA9pxQmKoY",
    "papermill": {
     "duration": 0.028684,
     "end_time": "2021-04-23T09:52:20.654860",
     "exception": false,
     "start_time": "2021-04-23T09:52:20.626176",
     "status": "completed"
    },
    "tags": []
   },
   "outputs": [],
   "source": [
    "train_dataset = dataset(data,target)\n",
    "train_loader = torch.utils.data.DataLoader(train_dataset,shuffle=False,batch_size=64)"
   ]
  },
  {
   "cell_type": "code",
   "execution_count": 13,
   "metadata": {
    "execution": {
     "iopub.execute_input": "2021-04-23T09:52:20.704523Z",
     "iopub.status.busy": "2021-04-23T09:52:20.703906Z",
     "iopub.status.idle": "2021-04-23T09:52:20.707739Z",
     "shell.execute_reply": "2021-04-23T09:52:20.707262Z"
    },
    "id": "K4HHFqAZmmEa",
    "papermill": {
     "duration": 0.032214,
     "end_time": "2021-04-23T09:52:20.707842",
     "exception": false,
     "start_time": "2021-04-23T09:52:20.675628",
     "status": "completed"
    },
    "tags": []
   },
   "outputs": [],
   "source": [
    "class model(nn.Module):\n",
    "    def __init__(self):\n",
    "        super(model, self).__init__()\n",
    "        self.conv = nn.Sequential(         \n",
    "            nn.Conv2d(1, 3, 1,1,0), \n",
    "            nn.BatchNorm2d(3,affine=True), \n",
    "              nn.ReLU(),                      \n",
    "        )\n",
    "        self.resnet= timm.create_model('resnext50_32x4d',pretrained=False)\n",
    "        \n",
    "        self.resnet._modules[\"fc\"] = nn.Linear(2048,1024)      \n",
    "        self.l1 = nn.Linear(1024,1024)\n",
    "        self.bn1 = nn.BatchNorm1d(1024, momentum=0.9)\n",
    "        self.l2= nn.Linear(1024,256)\n",
    "        self.bn2 = nn.BatchNorm1d(256, momentum=0.9)\n",
    "        self.l3= nn.Linear(256,1)\n",
    "\n",
    "\n",
    "\n",
    "\n",
    "    def forward(self, x):\n",
    "      \n",
    "            out = self.conv(x)        \n",
    "            out = self.resnet(out)\n",
    "            out = self.l1(out)\n",
    "            out = self.bn1(out)\n",
    "            out = torch.relu(out)\n",
    "            output=self.l2(out)\n",
    "            output=self.bn2(output)\n",
    "            output = torch.relu(output)\n",
    "            output=self.l3(output)\n",
    "            \n",
    "  \n",
    "            return output,out"
   ]
  },
  {
   "cell_type": "code",
   "execution_count": 14,
   "metadata": {
    "execution": {
     "iopub.execute_input": "2021-04-23T09:52:20.766938Z",
     "iopub.status.busy": "2021-04-23T09:52:20.766377Z",
     "iopub.status.idle": "2021-04-23T09:52:25.513804Z",
     "shell.execute_reply": "2021-04-23T09:52:25.512820Z"
    },
    "id": "kd-hnl5GnVRn",
    "papermill": {
     "duration": 4.779751,
     "end_time": "2021-04-23T09:52:25.513947",
     "exception": false,
     "start_time": "2021-04-23T09:52:20.734196",
     "status": "completed"
    },
    "tags": []
   },
   "outputs": [],
   "source": [
    "model = model().to('cuda')"
   ]
  },
  {
   "cell_type": "code",
   "execution_count": 15,
   "metadata": {
    "execution": {
     "iopub.execute_input": "2021-04-23T09:52:25.564000Z",
     "iopub.status.busy": "2021-04-23T09:52:25.562263Z",
     "iopub.status.idle": "2021-04-23T09:52:25.564636Z",
     "shell.execute_reply": "2021-04-23T09:52:25.565024Z"
    },
    "id": "2VF59PEXnktg",
    "papermill": {
     "duration": 0.030248,
     "end_time": "2021-04-23T09:52:25.565146",
     "exception": false,
     "start_time": "2021-04-23T09:52:25.534898",
     "status": "completed"
    },
    "tags": []
   },
   "outputs": [],
   "source": [
    "optimizer = torch.optim.Adam(model.parameters(), lr=0.001)\n",
    "criterion = nn.MSELoss()"
   ]
  },
  {
   "cell_type": "code",
   "execution_count": 16,
   "metadata": {
    "execution": {
     "iopub.execute_input": "2021-04-23T09:52:25.611462Z",
     "iopub.status.busy": "2021-04-23T09:52:25.609756Z",
     "iopub.status.idle": "2021-04-23T09:52:25.612057Z",
     "shell.execute_reply": "2021-04-23T09:52:25.612499Z"
    },
    "papermill": {
     "duration": 0.026817,
     "end_time": "2021-04-23T09:52:25.612622",
     "exception": false,
     "start_time": "2021-04-23T09:52:25.585805",
     "status": "completed"
    },
    "tags": []
   },
   "outputs": [],
   "source": [
    "from sklearn.metrics import mean_squared_error\n",
    "from sklearn.metrics import mean_absolute_error"
   ]
  },
  {
   "cell_type": "code",
   "execution_count": 17,
   "metadata": {
    "execution": {
     "iopub.execute_input": "2021-04-23T09:52:25.660912Z",
     "iopub.status.busy": "2021-04-23T09:52:25.660131Z",
     "iopub.status.idle": "2021-04-23T12:54:49.954785Z",
     "shell.execute_reply": "2021-04-23T12:54:49.952329Z"
    },
    "id": "82L_HgXqn0Oo",
    "outputId": "0d80f12c-e7ba-44e2-bbb0-b8e528366904",
    "papermill": {
     "duration": 10944.321424,
     "end_time": "2021-04-23T12:54:49.954925",
     "exception": false,
     "start_time": "2021-04-23T09:52:25.633501",
     "status": "completed"
    },
    "tags": []
   },
   "outputs": [
    {
     "data": {
      "application/vnd.jupyter.widget-view+json": {
       "model_id": "7fb9ba743ce24de4abb66b850fe9c17d",
       "version_major": 2,
       "version_minor": 0
      },
      "text/plain": [
       "  0%|          | 0/100 [00:00<?, ?it/s]"
      ]
     },
     "metadata": {},
     "output_type": "display_data"
    },
    {
     "name": "stdout",
     "output_type": "stream",
     "text": [
      "tensor(7.0191, device='cuda:0')\n",
      "tensor(6.4850, device='cuda:0')\n",
      "tensor(6.3427, device='cuda:0')\n",
      "tensor(6.2390, device='cuda:0')\n",
      "tensor(6.0891, device='cuda:0')\n",
      "tensor(5.8973, device='cuda:0')\n",
      "tensor(5.6914, device='cuda:0')\n",
      "tensor(5.4658, device='cuda:0')\n",
      "tensor(5.2895, device='cuda:0')\n",
      "tensor(5.1194, device='cuda:0')\n",
      "tensor(4.9750, device='cuda:0')\n",
      "tensor(4.6632, device='cuda:0')\n",
      "tensor(4.3393, device='cuda:0')\n",
      "tensor(4.2871, device='cuda:0')\n",
      "tensor(4.0177, device='cuda:0')\n",
      "tensor(3.6426, device='cuda:0')\n",
      "tensor(3.6523, device='cuda:0')\n",
      "tensor(3.4016, device='cuda:0')\n",
      "tensor(3.3400, device='cuda:0')\n",
      "tensor(3.1425, device='cuda:0')\n",
      "tensor(3.0330, device='cuda:0')\n",
      "tensor(2.8198, device='cuda:0')\n",
      "tensor(2.8422, device='cuda:0')\n",
      "tensor(2.7463, device='cuda:0')\n",
      "tensor(2.4292, device='cuda:0')\n",
      "tensor(2.3251, device='cuda:0')\n",
      "tensor(2.4120, device='cuda:0')\n",
      "tensor(2.3568, device='cuda:0')\n",
      "tensor(2.0916, device='cuda:0')\n",
      "tensor(1.9604, device='cuda:0')\n",
      "tensor(1.8692, device='cuda:0')\n",
      "tensor(1.7483, device='cuda:0')\n",
      "tensor(1.8357, device='cuda:0')\n",
      "tensor(1.5859, device='cuda:0')\n",
      "tensor(1.4449, device='cuda:0')\n",
      "tensor(1.4717, device='cuda:0')\n",
      "tensor(1.4012, device='cuda:0')\n",
      "tensor(1.3712, device='cuda:0')\n",
      "tensor(1.3641, device='cuda:0')\n",
      "tensor(1.2082, device='cuda:0')\n",
      "tensor(1.0907, device='cuda:0')\n",
      "tensor(1.1193, device='cuda:0')\n",
      "tensor(1.0990, device='cuda:0')\n",
      "tensor(1.1359, device='cuda:0')\n",
      "tensor(1.0770, device='cuda:0')\n",
      "tensor(0.9810, device='cuda:0')\n",
      "tensor(0.8662, device='cuda:0')\n",
      "tensor(0.8402, device='cuda:0')\n",
      "tensor(0.8448, device='cuda:0')\n",
      "tensor(0.8665, device='cuda:0')\n",
      "tensor(0.7692, device='cuda:0')\n",
      "tensor(0.8300, device='cuda:0')\n",
      "tensor(0.7609, device='cuda:0')\n",
      "tensor(0.7088, device='cuda:0')\n",
      "tensor(0.6851, device='cuda:0')\n",
      "tensor(0.6423, device='cuda:0')\n",
      "tensor(0.6458, device='cuda:0')\n",
      "tensor(0.6532, device='cuda:0')\n",
      "tensor(0.5867, device='cuda:0')\n",
      "tensor(0.5701, device='cuda:0')\n",
      "tensor(0.5805, device='cuda:0')\n",
      "tensor(0.6337, device='cuda:0')\n",
      "tensor(0.5687, device='cuda:0')\n",
      "tensor(0.4714, device='cuda:0')\n",
      "tensor(0.5102, device='cuda:0')\n",
      "tensor(0.4567, device='cuda:0')\n",
      "tensor(0.4525, device='cuda:0')\n",
      "tensor(0.4697, device='cuda:0')\n",
      "tensor(0.4578, device='cuda:0')\n",
      "tensor(0.4721, device='cuda:0')\n",
      "tensor(0.4265, device='cuda:0')\n",
      "tensor(0.4025, device='cuda:0')\n",
      "tensor(0.4011, device='cuda:0')\n",
      "tensor(0.3935, device='cuda:0')\n",
      "tensor(0.3731, device='cuda:0')\n",
      "tensor(0.3613, device='cuda:0')\n",
      "tensor(0.3521, device='cuda:0')\n",
      "tensor(0.3609, device='cuda:0')\n",
      "tensor(0.3342, device='cuda:0')\n",
      "tensor(0.3300, device='cuda:0')\n",
      "tensor(0.3451, device='cuda:0')\n",
      "tensor(0.3491, device='cuda:0')\n",
      "tensor(0.2917, device='cuda:0')\n",
      "tensor(0.2929, device='cuda:0')\n",
      "tensor(0.3145, device='cuda:0')\n",
      "tensor(0.3603, device='cuda:0')\n",
      "tensor(0.4069, device='cuda:0')\n",
      "tensor(0.3262, device='cuda:0')\n",
      "tensor(0.2656, device='cuda:0')\n",
      "tensor(0.2320, device='cuda:0')\n",
      "tensor(0.2596, device='cuda:0')\n",
      "tensor(0.3013, device='cuda:0')\n",
      "tensor(0.2963, device='cuda:0')\n",
      "tensor(0.2624, device='cuda:0')\n",
      "tensor(0.2499, device='cuda:0')\n",
      "tensor(0.2711, device='cuda:0')\n",
      "tensor(0.2749, device='cuda:0')\n",
      "tensor(0.2667, device='cuda:0')\n",
      "tensor(0.2575, device='cuda:0')\n",
      "tensor(0.2465, device='cuda:0')\n"
     ]
    }
   ],
   "source": [
    "for epoch in tqdm(range(100)):\n",
    "    lgbm_input=torch.zeros(1,1024).float().to('cuda')\n",
    "    losses = []\n",
    "    for (images,target) in (train_loader):\n",
    "        images = images.to('cuda')\n",
    "        target = target.to('cuda').view(-1,1)\n",
    "        out,output = model(images)\n",
    "        loss = criterion(out,target)\n",
    "\n",
    "        optimizer.zero_grad()\n",
    "        loss.backward()\n",
    "        optimizer.step()\n",
    "        losses.append(loss.data)\n",
    "        lgbm_input=torch.cat((lgbm_input,output), 0)\n",
    "    print(sum(losses)/len(losses))"
   ]
  },
  {
   "cell_type": "code",
   "execution_count": 18,
   "metadata": {
    "execution": {
     "iopub.execute_input": "2021-04-23T12:54:50.058834Z",
     "iopub.status.busy": "2021-04-23T12:54:50.057998Z",
     "iopub.status.idle": "2021-04-23T12:54:50.060399Z",
     "shell.execute_reply": "2021-04-23T12:54:50.060918Z"
    },
    "papermill": {
     "duration": 0.059102,
     "end_time": "2021-04-23T12:54:50.061060",
     "exception": false,
     "start_time": "2021-04-23T12:54:50.001958",
     "status": "completed"
    },
    "tags": []
   },
   "outputs": [],
   "source": [
    "def DA(predictions,y_test):\n",
    "    result=predictions*y_test\n",
    "    result=[1 if item>=0 else 0 for item in result]\n",
    "    return np.mean(result)"
   ]
  },
  {
   "cell_type": "code",
   "execution_count": 19,
   "metadata": {
    "execution": {
     "iopub.execute_input": "2021-04-23T12:54:50.167478Z",
     "iopub.status.busy": "2021-04-23T12:54:50.166878Z",
     "iopub.status.idle": "2021-04-23T12:55:25.273489Z",
     "shell.execute_reply": "2021-04-23T12:55:25.273908Z"
    },
    "papermill": {
     "duration": 35.165169,
     "end_time": "2021-04-23T12:55:25.274052",
     "exception": false,
     "start_time": "2021-04-23T12:54:50.108883",
     "status": "completed"
    },
    "tags": []
   },
   "outputs": [
    {
     "name": "stdout",
     "output_type": "stream",
     "text": [
      "Mean absolute Error is 0.012659736543834534\n",
      "Mean Squared is 0.0003452917094044295\n",
      "Accuracy is 0.5947530751874226\n"
     ]
    }
   ],
   "source": [
    "losses = []\n",
    "mae = 0\n",
    "mse = 0\n",
    "i = 0\n",
    "acc = 0\n",
    "model.eval()\n",
    "for (images,target) in (train_loader):\n",
    "    i += 1\n",
    "    images = images.to('cuda')\n",
    "    target = target.to('cuda').view(-1,1)\n",
    "    out,output = model(images)\n",
    "    mae += mean_absolute_error(target.detach().cpu().numpy()/1000,out.detach().cpu().numpy()/1000)\n",
    "    mse += mean_squared_error(target.detach().cpu().numpy()/1000,out.detach().cpu().numpy()/1000)\n",
    "    acc += DA(target.detach().cpu().numpy()/1000,out.detach().cpu().numpy()/1000) \n",
    "print(f\"Mean absolute Error is {mae/i}\")\n",
    "print(f\"Mean Squared is {mse/i}\")\n",
    "print(f\"Accuracy is {acc/i}\")"
   ]
  },
  {
   "cell_type": "code",
   "execution_count": 20,
   "metadata": {
    "execution": {
     "iopub.execute_input": "2021-04-23T12:55:25.371872Z",
     "iopub.status.busy": "2021-04-23T12:55:25.371247Z",
     "iopub.status.idle": "2021-04-23T12:55:25.488169Z",
     "shell.execute_reply": "2021-04-23T12:55:25.487696Z"
    },
    "id": "gt3pyAnEoMjP",
    "papermill": {
     "duration": 0.167318,
     "end_time": "2021-04-23T12:55:25.488282",
     "exception": false,
     "start_time": "2021-04-23T12:55:25.320964",
     "status": "completed"
    },
    "tags": []
   },
   "outputs": [
    {
     "data": {
      "text/html": [
       "<style type='text/css'>\n",
       ".datatable table.frame { margin-bottom: 0; }\n",
       ".datatable table.frame thead { border-bottom: none; }\n",
       ".datatable table.frame tr.coltypes td {  color: #FFFFFF;  line-height: 6px;  padding: 0 0.5em;}\n",
       ".datatable .bool    { background: #DDDD99; }\n",
       ".datatable .object  { background: #565656; }\n",
       ".datatable .int     { background: #5D9E5D; }\n",
       ".datatable .float   { background: #4040CC; }\n",
       ".datatable .str     { background: #CC4040; }\n",
       ".datatable .row_index {  background: var(--jp-border-color3);  border-right: 1px solid var(--jp-border-color0);  color: var(--jp-ui-font-color3);  font-size: 9px;}\n",
       ".datatable .frame tr.coltypes .row_index {  background: var(--jp-border-color0);}\n",
       ".datatable th:nth-child(2) { padding-left: 12px; }\n",
       ".datatable .hellipsis {  color: var(--jp-cell-editor-border-color);}\n",
       ".datatable .vellipsis {  background: var(--jp-layout-color0);  color: var(--jp-cell-editor-border-color);}\n",
       ".datatable .na {  color: var(--jp-cell-editor-border-color);  font-size: 80%;}\n",
       ".datatable .footer { font-size: 9px; }\n",
       ".datatable .frame_dimensions {  background: var(--jp-border-color3);  border-top: 1px solid var(--jp-border-color0);  color: var(--jp-ui-font-color3);  display: inline-block;  opacity: 0.6;  padding: 1px 10px 1px 5px;}\n",
       "</style>\n"
      ],
      "text/plain": [
       "<IPython.core.display.HTML object>"
      ]
     },
     "metadata": {},
     "output_type": "display_data"
    }
   ],
   "source": [
    "import lightgbm as lgb"
   ]
  },
  {
   "cell_type": "code",
   "execution_count": 21,
   "metadata": {
    "execution": {
     "iopub.execute_input": "2021-04-23T12:55:25.597985Z",
     "iopub.status.busy": "2021-04-23T12:55:25.597179Z",
     "iopub.status.idle": "2021-04-23T12:55:25.599497Z",
     "shell.execute_reply": "2021-04-23T12:55:25.599904Z"
    },
    "id": "ZZfgBxhvkjLb",
    "papermill": {
     "duration": 0.06343,
     "end_time": "2021-04-23T12:55:25.600037",
     "exception": false,
     "start_time": "2021-04-23T12:55:25.536607",
     "status": "completed"
    },
    "tags": []
   },
   "outputs": [],
   "source": [
    "other_input = df.drop(columns=['output','Unnamed: 0','index']).to_numpy()"
   ]
  },
  {
   "cell_type": "code",
   "execution_count": 22,
   "metadata": {
    "execution": {
     "iopub.execute_input": "2021-04-23T12:55:25.728484Z",
     "iopub.status.busy": "2021-04-23T12:55:25.707951Z",
     "iopub.status.idle": "2021-04-23T12:55:25.988373Z",
     "shell.execute_reply": "2021-04-23T12:55:25.989005Z"
    },
    "id": "gKdXfRPvDyTM",
    "papermill": {
     "duration": 0.341324,
     "end_time": "2021-04-23T12:55:25.989234",
     "exception": false,
     "start_time": "2021-04-23T12:55:25.647910",
     "status": "completed"
    },
    "tags": []
   },
   "outputs": [],
   "source": [
    "other_input = other_input[50:-4]\n",
    "other_input = np.array([other_input[i-30:i] for i in range(30,len(other_input))])"
   ]
  },
  {
   "cell_type": "code",
   "execution_count": 23,
   "metadata": {
    "execution": {
     "iopub.execute_input": "2021-04-23T12:55:26.173816Z",
     "iopub.status.busy": "2021-04-23T12:55:26.172997Z",
     "iopub.status.idle": "2021-04-23T12:55:26.176231Z",
     "shell.execute_reply": "2021-04-23T12:55:26.176829Z"
    },
    "id": "FOfwD4RWEbuj",
    "papermill": {
     "duration": 0.092245,
     "end_time": "2021-04-23T12:55:26.177018",
     "exception": false,
     "start_time": "2021-04-23T12:55:26.084773",
     "status": "completed"
    },
    "tags": []
   },
   "outputs": [],
   "source": [
    "other_input = other_input.reshape((-1,30*other_input.shape[-1]))"
   ]
  },
  {
   "cell_type": "code",
   "execution_count": 24,
   "metadata": {
    "execution": {
     "iopub.execute_input": "2021-04-23T12:55:26.338425Z",
     "iopub.status.busy": "2021-04-23T12:55:26.337539Z",
     "iopub.status.idle": "2021-04-23T12:55:26.885661Z",
     "shell.execute_reply": "2021-04-23T12:55:26.886319Z"
    },
    "id": "eSYWAli7FIQZ",
    "papermill": {
     "duration": 0.63302,
     "end_time": "2021-04-23T12:55:26.886572",
     "exception": false,
     "start_time": "2021-04-23T12:55:26.253552",
     "status": "completed"
    },
    "tags": []
   },
   "outputs": [],
   "source": [
    "lgbm_input = lgbm_input.cpu().detach().numpy()\n",
    "lgbm_input = lgbm_input[1:]"
   ]
  },
  {
   "cell_type": "code",
   "execution_count": 25,
   "metadata": {
    "execution": {
     "iopub.execute_input": "2021-04-23T12:55:27.036547Z",
     "iopub.status.busy": "2021-04-23T12:55:27.034740Z",
     "iopub.status.idle": "2021-04-23T12:55:27.038549Z",
     "shell.execute_reply": "2021-04-23T12:55:27.038100Z"
    },
    "id": "6b0tDHy2EMfi",
    "outputId": "36b55c1f-8d1c-46ef-ada9-8608b71afa37",
    "papermill": {
     "duration": 0.071575,
     "end_time": "2021-04-23T12:55:27.038662",
     "exception": false,
     "start_time": "2021-04-23T12:55:26.967087",
     "status": "completed"
    },
    "tags": []
   },
   "outputs": [
    {
     "name": "stdout",
     "output_type": "stream",
     "text": [
      "(79916, 1024) (79916, 900)\n"
     ]
    }
   ],
   "source": [
    "print(lgbm_input.shape,other_input.shape)"
   ]
  },
  {
   "cell_type": "code",
   "execution_count": 26,
   "metadata": {
    "execution": {
     "iopub.execute_input": "2021-04-23T12:55:27.141151Z",
     "iopub.status.busy": "2021-04-23T12:55:27.140139Z",
     "iopub.status.idle": "2021-04-23T12:55:27.546489Z",
     "shell.execute_reply": "2021-04-23T12:55:27.545954Z"
    },
    "id": "5Uhpy6BGH53u",
    "papermill": {
     "duration": 0.45928,
     "end_time": "2021-04-23T12:55:27.546620",
     "exception": false,
     "start_time": "2021-04-23T12:55:27.087340",
     "status": "completed"
    },
    "tags": []
   },
   "outputs": [],
   "source": [
    "inputs = np.concatenate([lgbm_input, other_input], 1)"
   ]
  },
  {
   "cell_type": "code",
   "execution_count": 27,
   "metadata": {
    "execution": {
     "iopub.execute_input": "2021-04-23T12:55:27.658133Z",
     "iopub.status.busy": "2021-04-23T12:55:27.657419Z",
     "iopub.status.idle": "2021-04-23T12:55:56.038770Z",
     "shell.execute_reply": "2021-04-23T12:55:56.037702Z"
    },
    "papermill": {
     "duration": 28.443084,
     "end_time": "2021-04-23T12:55:56.038932",
     "exception": false,
     "start_time": "2021-04-23T12:55:27.595848",
     "status": "completed"
    },
    "tags": []
   },
   "outputs": [],
   "source": [
    "np.savez_compressed('data.npz', inputs)"
   ]
  },
  {
   "cell_type": "code",
   "execution_count": 28,
   "metadata": {
    "execution": {
     "iopub.execute_input": "2021-04-23T12:55:56.144264Z",
     "iopub.status.busy": "2021-04-23T12:55:56.143113Z",
     "iopub.status.idle": "2021-04-23T12:55:56.145045Z",
     "shell.execute_reply": "2021-04-23T12:55:56.145469Z"
    },
    "id": "qajZPGcdIBcl",
    "papermill": {
     "duration": 0.055498,
     "end_time": "2021-04-23T12:55:56.145598",
     "exception": false,
     "start_time": "2021-04-23T12:55:56.090100",
     "status": "completed"
    },
    "tags": []
   },
   "outputs": [],
   "source": [
    "targets = df.output[50:].to_numpy()\n",
    "targets = targets[30:-4]"
   ]
  },
  {
   "cell_type": "code",
   "execution_count": 29,
   "metadata": {
    "execution": {
     "iopub.execute_input": "2021-04-23T12:55:56.252126Z",
     "iopub.status.busy": "2021-04-23T12:55:56.249644Z",
     "iopub.status.idle": "2021-04-23T12:55:56.624144Z",
     "shell.execute_reply": "2021-04-23T12:55:56.624568Z"
    },
    "id": "RCBB5LDeGHpW",
    "papermill": {
     "duration": 0.430792,
     "end_time": "2021-04-23T12:55:56.624730",
     "exception": false,
     "start_time": "2021-04-23T12:55:56.193938",
     "status": "completed"
    },
    "tags": []
   },
   "outputs": [],
   "source": [
    "x_train, x_test, y_train, y_test = train_test_split(inputs , targets, test_size=0.2, random_state=2021) \n",
    "params = {'num_leaves': 38,              \n",
    "          'min_data_in_leaf': 50,\n",
    "          'objective': 'regression',     \n",
    "          'max_depth': -1,                \n",
    "          'learning_rate': 0.1,           \n",
    "          \"min_sum_hessian_in_leaf\": 6,\n",
    "          \"boosting\": \"gbdt\",             \n",
    "          \"feature_fraction\": 0.9,         \n",
    "          \"bagging_freq\": 1,               \n",
    "          \"bagging_fraction\": 0.7,          \n",
    "          \"bagging_seed\": 11,\n",
    "          \"lambda_l1\": 0.1,\n",
    "          \"verbosity\": -1,               \n",
    "          \"nthread\": 4,               \n",
    "          'metric': 'mae',               \n",
    "          \"random_state\": 2019,\n",
    "          'device_type':'gpu',\n",
    "          'gpu_platform_id':1,\n",
    "          'gpu_device_id':0\n",
    "          }\n",
    "trn_data = lgb.Dataset(x_train, y_train)\n",
    "val_data = lgb.Dataset(x_test, y_test)"
   ]
  },
  {
   "cell_type": "code",
   "execution_count": 30,
   "metadata": {
    "execution": {
     "iopub.execute_input": "2021-04-23T12:55:56.727522Z",
     "iopub.status.busy": "2021-04-23T12:55:56.727006Z",
     "iopub.status.idle": "2021-04-23T13:55:07.489479Z",
     "shell.execute_reply": "2021-04-23T13:55:07.488508Z"
    },
    "id": "nzl5blR0Icsd",
    "outputId": "9d841b6a-fad6-4af2-bad8-4ccfc27ddca7",
    "papermill": {
     "duration": 3550.815806,
     "end_time": "2021-04-23T13:55:07.489645",
     "exception": false,
     "start_time": "2021-04-23T12:55:56.673839",
     "status": "completed"
    },
    "tags": []
   },
   "outputs": [
    {
     "name": "stdout",
     "output_type": "stream",
     "text": [
      "Training until validation scores don't improve for 500 rounds\n",
      "[200]\ttraining's l1: 0.377849\tvalid_1's l1: 0.449251\n",
      "[400]\ttraining's l1: 0.323518\tvalid_1's l1: 0.438025\n",
      "[600]\ttraining's l1: 0.280191\tvalid_1's l1: 0.43285\n",
      "[800]\ttraining's l1: 0.245108\tvalid_1's l1: 0.430742\n",
      "[1000]\ttraining's l1: 0.21541\tvalid_1's l1: 0.428952\n",
      "[1200]\ttraining's l1: 0.189921\tvalid_1's l1: 0.42787\n",
      "[1400]\ttraining's l1: 0.167872\tvalid_1's l1: 0.42716\n",
      "[1600]\ttraining's l1: 0.148843\tvalid_1's l1: 0.426304\n",
      "[1800]\ttraining's l1: 0.131961\tvalid_1's l1: 0.425521\n",
      "[2000]\ttraining's l1: 0.117113\tvalid_1's l1: 0.425156\n",
      "[2200]\ttraining's l1: 0.104168\tvalid_1's l1: 0.424847\n",
      "[2400]\ttraining's l1: 0.0928784\tvalid_1's l1: 0.424736\n",
      "[2600]\ttraining's l1: 0.0828234\tvalid_1's l1: 0.424634\n",
      "[2800]\ttraining's l1: 0.0739526\tvalid_1's l1: 0.424213\n",
      "[3000]\ttraining's l1: 0.0661039\tvalid_1's l1: 0.424107\n",
      "[3200]\ttraining's l1: 0.0591356\tvalid_1's l1: 0.423707\n",
      "[3400]\ttraining's l1: 0.0529361\tvalid_1's l1: 0.423488\n",
      "[3600]\ttraining's l1: 0.0474403\tvalid_1's l1: 0.423358\n",
      "[3800]\ttraining's l1: 0.0425147\tvalid_1's l1: 0.423161\n",
      "[4000]\ttraining's l1: 0.0382208\tvalid_1's l1: 0.423101\n",
      "[4200]\ttraining's l1: 0.0343768\tvalid_1's l1: 0.423005\n",
      "[4400]\ttraining's l1: 0.0309464\tvalid_1's l1: 0.422941\n",
      "[4600]\ttraining's l1: 0.0278569\tvalid_1's l1: 0.422876\n",
      "[4800]\ttraining's l1: 0.0251451\tvalid_1's l1: 0.422758\n",
      "[5000]\ttraining's l1: 0.0227067\tvalid_1's l1: 0.42273\n",
      "[5200]\ttraining's l1: 0.0205196\tvalid_1's l1: 0.422669\n",
      "[5400]\ttraining's l1: 0.0185398\tvalid_1's l1: 0.42258\n",
      "[5600]\ttraining's l1: 0.0167979\tvalid_1's l1: 0.422539\n",
      "[5800]\ttraining's l1: 0.0152211\tvalid_1's l1: 0.422528\n",
      "[6000]\ttraining's l1: 0.0138025\tvalid_1's l1: 0.422512\n",
      "[6200]\ttraining's l1: 0.0125126\tvalid_1's l1: 0.42247\n",
      "[6400]\ttraining's l1: 0.0113581\tvalid_1's l1: 0.422438\n",
      "[6600]\ttraining's l1: 0.0103478\tvalid_1's l1: 0.422417\n",
      "[6800]\ttraining's l1: 0.00943219\tvalid_1's l1: 0.422398\n",
      "[7000]\ttraining's l1: 0.00861078\tvalid_1's l1: 0.422373\n",
      "[7200]\ttraining's l1: 0.00786518\tvalid_1's l1: 0.422356\n",
      "[7400]\ttraining's l1: 0.00719392\tvalid_1's l1: 0.422333\n",
      "[7600]\ttraining's l1: 0.00658441\tvalid_1's l1: 0.422315\n",
      "[7800]\ttraining's l1: 0.00603218\tvalid_1's l1: 0.422299\n",
      "[8000]\ttraining's l1: 0.0055397\tvalid_1's l1: 0.42229\n",
      "[8200]\ttraining's l1: 0.00509844\tvalid_1's l1: 0.422288\n",
      "[8400]\ttraining's l1: 0.00469323\tvalid_1's l1: 0.422279\n",
      "[8600]\ttraining's l1: 0.00433\tvalid_1's l1: 0.42227\n",
      "[8800]\ttraining's l1: 0.00399621\tvalid_1's l1: 0.422264\n",
      "[9000]\ttraining's l1: 0.00369594\tvalid_1's l1: 0.422258\n",
      "[9200]\ttraining's l1: 0.003427\tvalid_1's l1: 0.42224\n",
      "[9400]\ttraining's l1: 0.00318167\tvalid_1's l1: 0.422236\n",
      "[9600]\ttraining's l1: 0.00295651\tvalid_1's l1: 0.422235\n",
      "[9800]\ttraining's l1: 0.0027551\tvalid_1's l1: 0.422222\n",
      "[10000]\ttraining's l1: 0.00257199\tvalid_1's l1: 0.42222\n",
      "[10200]\ttraining's l1: 0.00240386\tvalid_1's l1: 0.422215\n",
      "[10400]\ttraining's l1: 0.00224928\tvalid_1's l1: 0.422215\n",
      "[10600]\ttraining's l1: 0.00211164\tvalid_1's l1: 0.422211\n",
      "[10800]\ttraining's l1: 0.00198502\tvalid_1's l1: 0.422211\n",
      "[11000]\ttraining's l1: 0.00186673\tvalid_1's l1: 0.422208\n",
      "[11200]\ttraining's l1: 0.00175871\tvalid_1's l1: 0.422205\n",
      "[11400]\ttraining's l1: 0.00165982\tvalid_1's l1: 0.422203\n",
      "[11600]\ttraining's l1: 0.00156867\tvalid_1's l1: 0.422202\n",
      "[11800]\ttraining's l1: 0.00148393\tvalid_1's l1: 0.4222\n",
      "[12000]\ttraining's l1: 0.00140593\tvalid_1's l1: 0.422198\n",
      "[12200]\ttraining's l1: 0.00133385\tvalid_1's l1: 0.422197\n",
      "[12400]\ttraining's l1: 0.00126609\tvalid_1's l1: 0.422196\n",
      "[12600]\ttraining's l1: 0.00120452\tvalid_1's l1: 0.422197\n",
      "[12800]\ttraining's l1: 0.00114835\tvalid_1's l1: 0.422193\n",
      "[13000]\ttraining's l1: 0.00109389\tvalid_1's l1: 0.422194\n",
      "[13200]\ttraining's l1: 0.00104304\tvalid_1's l1: 0.422193\n",
      "[13400]\ttraining's l1: 0.000995697\tvalid_1's l1: 0.422192\n",
      "[13600]\ttraining's l1: 0.000951577\tvalid_1's l1: 0.42219\n",
      "[13800]\ttraining's l1: 0.000910456\tvalid_1's l1: 0.422191\n",
      "[14000]\ttraining's l1: 0.000871462\tvalid_1's l1: 0.422191\n",
      "[14200]\ttraining's l1: 0.000835288\tvalid_1's l1: 0.422192\n",
      "Early stopping, best iteration is:\n",
      "[13711]\ttraining's l1: 0.000928439\tvalid_1's l1: 0.42219\n"
     ]
    }
   ],
   "source": [
    "clf = lgb.train(params,\n",
    "                trn_data,\n",
    "                20000,\n",
    "                valid_sets=[trn_data, val_data],\n",
    "                verbose_eval=200,\n",
    "                early_stopping_rounds=500)\n",
    "oof = clf.predict(x_train, num_iteration=clf.best_iteration)\n",
    "predictions = clf.predict(x_test, num_iteration=clf.best_iteration)"
   ]
  },
  {
   "cell_type": "code",
   "execution_count": 31,
   "metadata": {
    "execution": {
     "iopub.execute_input": "2021-04-23T13:55:07.647820Z",
     "iopub.status.busy": "2021-04-23T13:55:07.646731Z",
     "iopub.status.idle": "2021-04-23T13:55:07.648573Z",
     "shell.execute_reply": "2021-04-23T13:55:07.648980Z"
    },
    "papermill": {
     "duration": 0.083383,
     "end_time": "2021-04-23T13:55:07.649120",
     "exception": false,
     "start_time": "2021-04-23T13:55:07.565737",
     "status": "completed"
    },
    "tags": []
   },
   "outputs": [],
   "source": [
    "from sklearn.metrics import mean_squared_error \n",
    "from sklearn.metrics import mean_absolute_error"
   ]
  },
  {
   "cell_type": "code",
   "execution_count": 32,
   "metadata": {
    "execution": {
     "iopub.execute_input": "2021-04-23T13:55:07.841027Z",
     "iopub.status.busy": "2021-04-23T13:55:07.840136Z",
     "iopub.status.idle": "2021-04-23T13:55:07.842206Z",
     "shell.execute_reply": "2021-04-23T13:55:07.845344Z"
    },
    "papermill": {
     "duration": 0.120679,
     "end_time": "2021-04-23T13:55:07.845607",
     "exception": false,
     "start_time": "2021-04-23T13:55:07.724928",
     "status": "completed"
    },
    "tags": []
   },
   "outputs": [],
   "source": [
    "def mean_absolute_percentage_error(y_pred, y_true):\n",
    "    mask=y_true!=0\n",
    "    return np.mean(np.abs((y_true[mask] - y_pred[mask]) / (y_true[mask]))) * 100\n",
    "\n",
    "def normalize_function(data):\n",
    "    min = np.amin(data,axis=0)\n",
    "    max = np.amax(data,axis=0)\n",
    "    return (data - min)/(max-min)\n",
    "def labeled(x):\n",
    "    if x>=0:\n",
    "        return 0\n",
    "    if x<=-0:\n",
    "        return 1  \n",
    "\n"
   ]
  },
  {
   "cell_type": "code",
   "execution_count": 33,
   "metadata": {
    "execution": {
     "iopub.execute_input": "2021-04-23T13:55:08.082782Z",
     "iopub.status.busy": "2021-04-23T13:55:08.081954Z",
     "iopub.status.idle": "2021-04-23T13:55:08.111184Z",
     "shell.execute_reply": "2021-04-23T13:55:08.112345Z"
    },
    "papermill": {
     "duration": 0.150804,
     "end_time": "2021-04-23T13:55:08.112546",
     "exception": false,
     "start_time": "2021-04-23T13:55:07.961742",
     "status": "completed"
    },
    "tags": []
   },
   "outputs": [
    {
     "name": "stdout",
     "output_type": "stream",
     "text": [
      "MAE 0.422190*10-3\t MSE: 0.000569*10-3\t ACC: 0.929930\n"
     ]
    }
   ],
   "source": [
    "MSE=mean_squared_error(predictions/1000,y_test/1000)\n",
    "MAE=mean_absolute_error(predictions/1000,y_test/1000)\n",
    "acc=DA(predictions,y_test)\n",
    "\n",
    "print('MAE %.6f*10-3\\t MSE: %.6f*10-3\\t ACC: %.6f' %\n",
    "                (1000*MAE,1000*MSE,acc ))"
   ]
  },
  {
   "cell_type": "code",
   "execution_count": 34,
   "metadata": {
    "execution": {
     "iopub.execute_input": "2021-04-23T13:55:08.371118Z",
     "iopub.status.busy": "2021-04-23T13:55:08.370153Z",
     "iopub.status.idle": "2021-04-23T13:55:08.579416Z",
     "shell.execute_reply": "2021-04-23T13:55:08.579898Z"
    },
    "papermill": {
     "duration": 0.328704,
     "end_time": "2021-04-23T13:55:08.580079",
     "exception": false,
     "start_time": "2021-04-23T13:55:08.251375",
     "status": "completed"
    },
    "tags": []
   },
   "outputs": [],
   "source": [
    "torch.save(model.state_dict(), 'model.pth')"
   ]
  }
 ],
 "metadata": {
  "kernelspec": {
   "display_name": "Python 3",
   "language": "python",
   "name": "python3"
  },
  "language_info": {
   "codemirror_mode": {
    "name": "ipython",
    "version": 3
   },
   "file_extension": ".py",
   "mimetype": "text/x-python",
   "name": "python",
   "nbconvert_exporter": "python",
   "pygments_lexer": "ipython3",
   "version": "3.7.9"
  },
  "papermill": {
   "default_parameters": {},
   "duration": 14587.856606,
   "end_time": "2021-04-23T13:55:10.163064",
   "environment_variables": {},
   "exception": null,
   "input_path": "__notebook__.ipynb",
   "output_path": "__notebook__.ipynb",
   "parameters": {},
   "start_time": "2021-04-23T09:52:02.306458",
   "version": "2.2.2"
  },
  "widgets": {
   "application/vnd.jupyter.widget-state+json": {
    "state": {
     "298e7780230f4803a9f73450509f187c": {
      "model_module": "@jupyter-widgets/base",
      "model_module_version": "1.2.0",
      "model_name": "LayoutModel",
      "state": {
       "_model_module": "@jupyter-widgets/base",
       "_model_module_version": "1.2.0",
       "_model_name": "LayoutModel",
       "_view_count": null,
       "_view_module": "@jupyter-widgets/base",
       "_view_module_version": "1.2.0",
       "_view_name": "LayoutView",
       "align_content": null,
       "align_items": null,
       "align_self": null,
       "border": null,
       "bottom": null,
       "display": null,
       "flex": null,
       "flex_flow": null,
       "grid_area": null,
       "grid_auto_columns": null,
       "grid_auto_flow": null,
       "grid_auto_rows": null,
       "grid_column": null,
       "grid_gap": null,
       "grid_row": null,
       "grid_template_areas": null,
       "grid_template_columns": null,
       "grid_template_rows": null,
       "height": null,
       "justify_content": null,
       "justify_items": null,
       "left": null,
       "margin": null,
       "max_height": null,
       "max_width": null,
       "min_height": null,
       "min_width": null,
       "object_fit": null,
       "object_position": null,
       "order": null,
       "overflow": null,
       "overflow_x": null,
       "overflow_y": null,
       "padding": null,
       "right": null,
       "top": null,
       "visibility": null,
       "width": null
      }
     },
     "2ae16071846d4fb6acd47240e930d440": {
      "model_module": "@jupyter-widgets/controls",
      "model_module_version": "1.5.0",
      "model_name": "FloatProgressModel",
      "state": {
       "_dom_classes": [],
       "_model_module": "@jupyter-widgets/controls",
       "_model_module_version": "1.5.0",
       "_model_name": "FloatProgressModel",
       "_view_count": null,
       "_view_module": "@jupyter-widgets/controls",
       "_view_module_version": "1.5.0",
       "_view_name": "ProgressView",
       "bar_style": "success",
       "description": "",
       "description_tooltip": null,
       "layout": "IPY_MODEL_d8fb799f8910472eaf466cc3fac9fbbf",
       "max": 100.0,
       "min": 0.0,
       "orientation": "horizontal",
       "style": "IPY_MODEL_7325e5f4da134fb4add634aeccb42889",
       "value": 100.0
      }
     },
     "2baf0c67e8ce461a9d612b51d0494ea1": {
      "model_module": "@jupyter-widgets/base",
      "model_module_version": "1.2.0",
      "model_name": "LayoutModel",
      "state": {
       "_model_module": "@jupyter-widgets/base",
       "_model_module_version": "1.2.0",
       "_model_name": "LayoutModel",
       "_view_count": null,
       "_view_module": "@jupyter-widgets/base",
       "_view_module_version": "1.2.0",
       "_view_name": "LayoutView",
       "align_content": null,
       "align_items": null,
       "align_self": null,
       "border": null,
       "bottom": null,
       "display": null,
       "flex": null,
       "flex_flow": null,
       "grid_area": null,
       "grid_auto_columns": null,
       "grid_auto_flow": null,
       "grid_auto_rows": null,
       "grid_column": null,
       "grid_gap": null,
       "grid_row": null,
       "grid_template_areas": null,
       "grid_template_columns": null,
       "grid_template_rows": null,
       "height": null,
       "justify_content": null,
       "justify_items": null,
       "left": null,
       "margin": null,
       "max_height": null,
       "max_width": null,
       "min_height": null,
       "min_width": null,
       "object_fit": null,
       "object_position": null,
       "order": null,
       "overflow": null,
       "overflow_x": null,
       "overflow_y": null,
       "padding": null,
       "right": null,
       "top": null,
       "visibility": null,
       "width": null
      }
     },
     "318a3a94c3c149b4baa5666340155f33": {
      "model_module": "@jupyter-widgets/controls",
      "model_module_version": "1.5.0",
      "model_name": "DescriptionStyleModel",
      "state": {
       "_model_module": "@jupyter-widgets/controls",
       "_model_module_version": "1.5.0",
       "_model_name": "DescriptionStyleModel",
       "_view_count": null,
       "_view_module": "@jupyter-widgets/base",
       "_view_module_version": "1.2.0",
       "_view_name": "StyleView",
       "description_width": ""
      }
     },
     "7325e5f4da134fb4add634aeccb42889": {
      "model_module": "@jupyter-widgets/controls",
      "model_module_version": "1.5.0",
      "model_name": "ProgressStyleModel",
      "state": {
       "_model_module": "@jupyter-widgets/controls",
       "_model_module_version": "1.5.0",
       "_model_name": "ProgressStyleModel",
       "_view_count": null,
       "_view_module": "@jupyter-widgets/base",
       "_view_module_version": "1.2.0",
       "_view_name": "StyleView",
       "bar_color": null,
       "description_width": ""
      }
     },
     "7fb9ba743ce24de4abb66b850fe9c17d": {
      "model_module": "@jupyter-widgets/controls",
      "model_module_version": "1.5.0",
      "model_name": "HBoxModel",
      "state": {
       "_dom_classes": [],
       "_model_module": "@jupyter-widgets/controls",
       "_model_module_version": "1.5.0",
       "_model_name": "HBoxModel",
       "_view_count": null,
       "_view_module": "@jupyter-widgets/controls",
       "_view_module_version": "1.5.0",
       "_view_name": "HBoxView",
       "box_style": "",
       "children": [
        "IPY_MODEL_9916412790314f579de90d9bcb2a83dc",
        "IPY_MODEL_2ae16071846d4fb6acd47240e930d440",
        "IPY_MODEL_c0f039e9952346dbb4f996bf987c8205"
       ],
       "layout": "IPY_MODEL_d35cd945b89b4f36b80c4a2767c5567d"
      }
     },
     "9916412790314f579de90d9bcb2a83dc": {
      "model_module": "@jupyter-widgets/controls",
      "model_module_version": "1.5.0",
      "model_name": "HTMLModel",
      "state": {
       "_dom_classes": [],
       "_model_module": "@jupyter-widgets/controls",
       "_model_module_version": "1.5.0",
       "_model_name": "HTMLModel",
       "_view_count": null,
       "_view_module": "@jupyter-widgets/controls",
       "_view_module_version": "1.5.0",
       "_view_name": "HTMLView",
       "description": "",
       "description_tooltip": null,
       "layout": "IPY_MODEL_298e7780230f4803a9f73450509f187c",
       "placeholder": "​",
       "style": "IPY_MODEL_318a3a94c3c149b4baa5666340155f33",
       "value": "100%"
      }
     },
     "c0f039e9952346dbb4f996bf987c8205": {
      "model_module": "@jupyter-widgets/controls",
      "model_module_version": "1.5.0",
      "model_name": "HTMLModel",
      "state": {
       "_dom_classes": [],
       "_model_module": "@jupyter-widgets/controls",
       "_model_module_version": "1.5.0",
       "_model_name": "HTMLModel",
       "_view_count": null,
       "_view_module": "@jupyter-widgets/controls",
       "_view_module_version": "1.5.0",
       "_view_name": "HTMLView",
       "description": "",
       "description_tooltip": null,
       "layout": "IPY_MODEL_2baf0c67e8ce461a9d612b51d0494ea1",
       "placeholder": "​",
       "style": "IPY_MODEL_c4dfa91c550948d386dd962a39446d02",
       "value": " 100/100 [3:02:24&lt;00:00, 109.48s/it]"
      }
     },
     "c4dfa91c550948d386dd962a39446d02": {
      "model_module": "@jupyter-widgets/controls",
      "model_module_version": "1.5.0",
      "model_name": "DescriptionStyleModel",
      "state": {
       "_model_module": "@jupyter-widgets/controls",
       "_model_module_version": "1.5.0",
       "_model_name": "DescriptionStyleModel",
       "_view_count": null,
       "_view_module": "@jupyter-widgets/base",
       "_view_module_version": "1.2.0",
       "_view_name": "StyleView",
       "description_width": ""
      }
     },
     "d35cd945b89b4f36b80c4a2767c5567d": {
      "model_module": "@jupyter-widgets/base",
      "model_module_version": "1.2.0",
      "model_name": "LayoutModel",
      "state": {
       "_model_module": "@jupyter-widgets/base",
       "_model_module_version": "1.2.0",
       "_model_name": "LayoutModel",
       "_view_count": null,
       "_view_module": "@jupyter-widgets/base",
       "_view_module_version": "1.2.0",
       "_view_name": "LayoutView",
       "align_content": null,
       "align_items": null,
       "align_self": null,
       "border": null,
       "bottom": null,
       "display": null,
       "flex": null,
       "flex_flow": null,
       "grid_area": null,
       "grid_auto_columns": null,
       "grid_auto_flow": null,
       "grid_auto_rows": null,
       "grid_column": null,
       "grid_gap": null,
       "grid_row": null,
       "grid_template_areas": null,
       "grid_template_columns": null,
       "grid_template_rows": null,
       "height": null,
       "justify_content": null,
       "justify_items": null,
       "left": null,
       "margin": null,
       "max_height": null,
       "max_width": null,
       "min_height": null,
       "min_width": null,
       "object_fit": null,
       "object_position": null,
       "order": null,
       "overflow": null,
       "overflow_x": null,
       "overflow_y": null,
       "padding": null,
       "right": null,
       "top": null,
       "visibility": null,
       "width": null
      }
     },
     "d8fb799f8910472eaf466cc3fac9fbbf": {
      "model_module": "@jupyter-widgets/base",
      "model_module_version": "1.2.0",
      "model_name": "LayoutModel",
      "state": {
       "_model_module": "@jupyter-widgets/base",
       "_model_module_version": "1.2.0",
       "_model_name": "LayoutModel",
       "_view_count": null,
       "_view_module": "@jupyter-widgets/base",
       "_view_module_version": "1.2.0",
       "_view_name": "LayoutView",
       "align_content": null,
       "align_items": null,
       "align_self": null,
       "border": null,
       "bottom": null,
       "display": null,
       "flex": null,
       "flex_flow": null,
       "grid_area": null,
       "grid_auto_columns": null,
       "grid_auto_flow": null,
       "grid_auto_rows": null,
       "grid_column": null,
       "grid_gap": null,
       "grid_row": null,
       "grid_template_areas": null,
       "grid_template_columns": null,
       "grid_template_rows": null,
       "height": null,
       "justify_content": null,
       "justify_items": null,
       "left": null,
       "margin": null,
       "max_height": null,
       "max_width": null,
       "min_height": null,
       "min_width": null,
       "object_fit": null,
       "object_position": null,
       "order": null,
       "overflow": null,
       "overflow_x": null,
       "overflow_y": null,
       "padding": null,
       "right": null,
       "top": null,
       "visibility": null,
       "width": null
      }
     }
    },
    "version_major": 2,
    "version_minor": 0
   }
  }
 },
 "nbformat": 4,
 "nbformat_minor": 4
}
